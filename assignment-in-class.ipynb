{
 "cells": [
  {
   "cell_type": "markdown",
   "metadata": {},
   "source": [
    "1. Import data/listings.csv into a dataframe and display the first few rows of the dataframe."
   ]
  },
  {
   "cell_type": "code",
   "execution_count": 1,
   "metadata": {},
   "outputs": [
    {
     "name": "stdout",
     "output_type": "stream",
     "text": [
      "       id                          listing_url       scrape_id last_scraped  \\\n",
      "0  155305  https://www.airbnb.com/rooms/155305  20240621025915   2024-06-21   \n",
      "1  156805  https://www.airbnb.com/rooms/156805  20240621025915   2024-06-21   \n",
      "2  156926  https://www.airbnb.com/rooms/156926  20240621025915   2024-06-21   \n",
      "3  197263  https://www.airbnb.com/rooms/197263  20240621025915   2024-06-21   \n",
      "4  209068  https://www.airbnb.com/rooms/209068  20240621025915   2024-06-21   \n",
      "\n",
      "        source                                    name  \\\n",
      "0  city scrape      Cottage! BonPaul + Sharky's Hostel   \n",
      "1  city scrape       Private Room \"Ader\" at BPS Hostel   \n",
      "2  city scrape  Mixed Dorm \"Top Bunk #1\" at BPS Hostel   \n",
      "3  city scrape            Tranquil Room & Private Bath   \n",
      "4  city scrape                         Terrace Cottage   \n",
      "\n",
      "                                         description  \\\n",
      "0                                                NaN   \n",
      "1                                                NaN   \n",
      "2  This is a top bunk in the mixed dorm room<br /...   \n",
      "3  This is a comfy, peaceful and clean room with ...   \n",
      "4                                                NaN   \n",
      "\n",
      "                               neighborhood_overview  \\\n",
      "0  We are within easy walk of pubs, breweries, mu...   \n",
      "1  Easy walk to pubs, cafes, bakery, breweries, l...   \n",
      "2                                                NaN   \n",
      "3                                                NaN   \n",
      "4  Our beautiful Grove Park Historic District clo...   \n",
      "\n",
      "                                         picture_url  host_id  ...  \\\n",
      "0  https://a0.muscache.com/pictures/8880711/cf38d...   746673  ...   \n",
      "1  https://a0.muscache.com/pictures/23447d55-fa7e...   746673  ...   \n",
      "2  https://a0.muscache.com/pictures/5fa7178e-c514...   746673  ...   \n",
      "3  https://a0.muscache.com/pictures/miso/Hosting-...   961396  ...   \n",
      "4  https://a0.muscache.com/pictures/1829924/9f3bf...  1029919  ...   \n",
      "\n",
      "  review_scores_communication review_scores_location review_scores_value  \\\n",
      "0                        4.75                   4.92                4.58   \n",
      "1                        4.61                   4.84                4.46   \n",
      "2                        4.77                   4.78                4.78   \n",
      "3                        4.93                   4.85                4.98   \n",
      "4                        4.98                   4.94                4.79   \n",
      "\n",
      "  license instant_bookable calculated_host_listings_count  \\\n",
      "0     NaN                f                              8   \n",
      "1     NaN                t                              8   \n",
      "2     NaN                t                              8   \n",
      "3     NaN                f                              2   \n",
      "4     NaN                f                              1   \n",
      "\n",
      "  calculated_host_listings_count_entire_homes  \\\n",
      "0                                           2   \n",
      "1                                           2   \n",
      "2                                           2   \n",
      "3                                           1   \n",
      "4                                           1   \n",
      "\n",
      "  calculated_host_listings_count_private_rooms  \\\n",
      "0                                            2   \n",
      "1                                            2   \n",
      "2                                            2   \n",
      "3                                            1   \n",
      "4                                            0   \n",
      "\n",
      "  calculated_host_listings_count_shared_rooms reviews_per_month  \n",
      "0                                           4              2.78  \n",
      "1                                           4              0.43  \n",
      "2                                           4              2.17  \n",
      "3                                           0              0.57  \n",
      "4                                           0              0.42  \n",
      "\n",
      "[5 rows x 75 columns]\n"
     ]
    }
   ],
   "source": [
    "import pandas as pd\n",
    "\n",
    "# Load the CSV files\n",
    "listings_df = pd.read_csv('data/listings.csv')\n",
    "\n",
    "print(listings_df.head())"
   ]
  },
  {
   "cell_type": "markdown",
   "metadata": {},
   "source": [
    "2. Show the column names of the dataframe."
   ]
  },
  {
   "cell_type": "code",
   "execution_count": 5,
   "metadata": {},
   "outputs": [
    {
     "name": "stdout",
     "output_type": "stream",
     "text": [
      "Index(['id', 'listing_url', 'scrape_id', 'last_scraped', 'source', 'name',\n",
      "       'description', 'neighborhood_overview', 'picture_url', 'host_id',\n",
      "       'host_url', 'host_name', 'host_since', 'host_location', 'host_about',\n",
      "       'host_response_time', 'host_response_rate', 'host_acceptance_rate',\n",
      "       'host_is_superhost', 'host_thumbnail_url', 'host_picture_url',\n",
      "       'host_neighbourhood', 'host_listings_count',\n",
      "       'host_total_listings_count', 'host_verifications',\n",
      "       'host_has_profile_pic', 'host_identity_verified', 'neighbourhood',\n",
      "       'neighbourhood_cleansed', 'neighbourhood_group_cleansed', 'latitude',\n",
      "       'longitude', 'property_type', 'room_type', 'accommodates', 'bathrooms',\n",
      "       'bathrooms_text', 'bedrooms', 'beds', 'amenities', 'price',\n",
      "       'minimum_nights', 'maximum_nights', 'minimum_minimum_nights',\n",
      "       'maximum_minimum_nights', 'minimum_maximum_nights',\n",
      "       'maximum_maximum_nights', 'minimum_nights_avg_ntm',\n",
      "       'maximum_nights_avg_ntm', 'calendar_updated', 'has_availability',\n",
      "       'availability_30', 'availability_60', 'availability_90',\n",
      "       'availability_365', 'calendar_last_scraped', 'number_of_reviews',\n",
      "       'number_of_reviews_ltm', 'number_of_reviews_l30d', 'first_review',\n",
      "       'last_review', 'review_scores_rating', 'review_scores_accuracy',\n",
      "       'review_scores_cleanliness', 'review_scores_checkin',\n",
      "       'review_scores_communication', 'review_scores_location',\n",
      "       'review_scores_value', 'license', 'instant_bookable',\n",
      "       'calculated_host_listings_count',\n",
      "       'calculated_host_listings_count_entire_homes',\n",
      "       'calculated_host_listings_count_private_rooms',\n",
      "       'calculated_host_listings_count_shared_rooms', 'reviews_per_month'],\n",
      "      dtype='object')\n"
     ]
    }
   ],
   "source": [
    "print(listings_df.columns)"
   ]
  },
  {
   "cell_type": "markdown",
   "metadata": {},
   "source": [
    "3. Find the average `reviews_per_month`."
   ]
  },
  {
   "cell_type": "code",
   "execution_count": 10,
   "metadata": {},
   "outputs": [
    {
     "name": "stdout",
     "output_type": "stream",
     "text": [
      "2.5002987197724043\n"
     ]
    }
   ],
   "source": [
    "average_reviews_per_month = listings_df['reviews_per_month'].mean()\n",
    "print(average_reviews_per_month)"
   ]
  },
  {
   "cell_type": "markdown",
   "metadata": {},
   "source": [
    "4. Find the maximum `reviews_per_month` of the listings."
   ]
  },
  {
   "cell_type": "code",
   "execution_count": 11,
   "metadata": {},
   "outputs": [
    {
     "name": "stdout",
     "output_type": "stream",
     "text": [
      "23.27\n"
     ]
    }
   ],
   "source": [
    "max_reviews_per_month = listings_df['reviews_per_month'].max()\n",
    "print(max_reviews_per_month)"
   ]
  },
  {
   "cell_type": "markdown",
   "metadata": {},
   "source": [
    "5. Add a column `reviews_per_month_grouping` to the dataframe. Group `reviews_per_month` into 5 groups: \n",
    "\n",
    "\"No Reviews\" = 0,\n",
    "\n",
    "\"Few\" = >0 to <5,\n",
    "\n",
    "\"Good\" = >5 to <12,\n",
    "\n",
    "\"Great\" = >12 to <20,\n",
    "\n",
    "\"Fire\" = >20."
   ]
  },
  {
   "cell_type": "code",
   "execution_count": 24,
   "metadata": {},
   "outputs": [
    {
     "name": "stdout",
     "output_type": "stream",
     "text": [
      "   reviews_per_month reviews_per_month_category\n",
      "0               2.78                        Few\n",
      "1               0.43                        Few\n",
      "2               2.17                        Few\n",
      "3               0.57                        Few\n",
      "4               0.42                        Few\n"
     ]
    }
   ],
   "source": [
    "def categorize_reviews_per_month(reviews_per_month):\n",
    "    if reviews_per_month == 0:\n",
    "        return 'No Reviews'\n",
    "    elif 0 < reviews_per_month < 5:\n",
    "        return 'Few'\n",
    "    elif 5 <= reviews_per_month < 10:\n",
    "        return 'Good'\n",
    "    elif 10 <= reviews_per_month < 20:\n",
    "        return 'Great'\n",
    "    elif reviews_per_month >= 20:\n",
    "        return 'Fire'\n",
    "    else:\n",
    "        return 'Unknown'\n",
    "    \n",
    "listings_df['reviews_per_month_category'] = listings_df['reviews_per_month'].apply(categorize_reviews_per_month)\n",
    "print(listings_df[['reviews_per_month', 'reviews_per_month_category']].head())"
   ]
  },
  {
   "cell_type": "markdown",
   "metadata": {},
   "source": [
    "6. Create a bar plot of the `reviews_per_month_grouping`."
   ]
  },
  {
   "cell_type": "code",
   "execution_count": 25,
   "metadata": {},
   "outputs": [
    {
     "name": "stdout",
     "output_type": "stream",
     "text": [
      "reviews_per_month_category\n",
      "Few        2480\n",
      "Good        313\n",
      "Unknown     219\n",
      "Great        18\n",
      "Fire          1\n",
      "Name: count, dtype: int64\n"
     ]
    }
   ],
   "source": [
    "reviews_per_month_grouping_counts = listings_df['reviews_per_month_category'].value_counts()\n",
    "print(reviews_per_month_grouping_counts)"
   ]
  },
  {
   "cell_type": "code",
   "execution_count": 26,
   "metadata": {},
   "outputs": [
    {
     "data": {
      "image/png": "[encoded data removed]",
      "text/plain": [
       "<Figure size 640x480 with 1 Axes>"
      ]
     },
     "metadata": {},
     "output_type": "display_data"
    }
   ],
   "source": [
    "import matplotlib.pyplot as plt\n",
    "\n",
    "order = ['No Reviews', 'Few', 'Good', 'Great', 'Fire', 'Unknown']\n",
    "\n",
    "ordered_reviews_counts = reviews_per_month_grouping_counts.reindex(order)\n",
    "\n",
    "ordered_reviews_counts.plot(kind='bar')\n",
    "plt.title('Reviews per Month Grouping Counts')   \n",
    "plt.ylabel('Count')\n",
    "plt.xlabel('Reviews per Month Grouping')\n",
    "plt.show()"
   ]
  }
 ],
 "metadata": {
  "kernelspec": {
   "display_name": ".venv",
   "language": "python",
   "name": "python3"
  },
  "language_info": {
   "codemirror_mode": {
    "name": "ipython",
    "version": 3
   },
   "file_extension": ".py",
   "mimetype": "text/x-python",
   "name": "python",
   "nbconvert_exporter": "python",
   "pygments_lexer": "ipython3",
   "version": "3.10.4"
  }
 },
 "nbformat": 4,
 "nbformat_minor": 2
}
