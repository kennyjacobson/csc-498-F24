{
 "cells": [
  {
   "cell_type": "markdown",
   "metadata": {},
   "source": [
    "1. Import data/listings.csv into a dataframe and display the first few rows of the dataframe."
   ]
  },
  {
   "cell_type": "code",
   "execution_count": null,
   "metadata": {},
   "outputs": [],
   "source": [
    "import pandas as pd\n",
    "\n",
    "# Load the CSV files\n",
    "listings_df = pd.read_csv('data/listings.csv')\n",
    "\n",
    "print(listings_df.head())"
   ]
  },
  {
   "cell_type": "markdown",
   "metadata": {},
   "source": [
    "2. Show the column names of the dataframe."
   ]
  },
  {
   "cell_type": "code",
   "execution_count": null,
   "metadata": {},
   "outputs": [],
   "source": [
    "print(listings_df.columns)"
   ]
  },
  {
   "cell_type": "markdown",
   "metadata": {},
   "source": [
    "3. Find the average `reviews_per_month`."
   ]
  },
  {
   "cell_type": "code",
   "execution_count": null,
   "metadata": {},
   "outputs": [],
   "source": [
    "average_reviews_per_month = listings_df['reviews_per_month'].mean()\n",
    "print(average_reviews_per_month)"
   ]
  },
  {
   "cell_type": "markdown",
   "metadata": {},
   "source": [
    "4. Find the maximum `reviews_per_month` of the listings."
   ]
  },
  {
   "cell_type": "code",
   "execution_count": null,
   "metadata": {},
   "outputs": [],
   "source": [
    "max_reviews_per_month = listings_df['reviews_per_month'].max()\n",
    "print(max_reviews_per_month)"
   ]
  },
  {
   "cell_type": "markdown",
   "metadata": {},
   "source": [
    "5. Add a column `reviews_per_month_grouping` to the dataframe. Group `reviews_per_month` into 5 groups: \n",
    "\n",
    "\"No Reviews\" = 0,\n",
    "\n",
    "\"Few\" = >0 to <5,\n",
    "\n",
    "\"Good\" = >5 to <12,\n",
    "\n",
    "\"Great\" = >12 to <20,\n",
    "\n",
    "\"Fire\" = >20."
   ]
  },
  {
   "cell_type": "code",
   "execution_count": null,
   "metadata": {},
   "outputs": [],
   "source": [
    "def categorize_reviews_per_month(reviews_per_month):\n",
    "    if reviews_per_month == 0:\n",
    "        return 'No Reviews'\n",
    "    elif 0 < reviews_per_month < 5:\n",
    "        return 'Few'\n",
    "    elif 5 <= reviews_per_month < 10:\n",
    "        return 'Good'\n",
    "    elif 10 <= reviews_per_month < 20:\n",
    "        return 'Great'\n",
    "    elif reviews_per_month >= 20:\n",
    "        return 'Fire'\n",
    "    else:\n",
    "        return 'Unknown'\n",
    "    \n",
    "listings_df['reviews_per_month_category'] = listings_df['reviews_per_month'].apply(categorize_reviews_per_month)\n",
    "print(listings_df[['reviews_per_month', 'reviews_per_month_category']].head())"
   ]
  },
  {
   "cell_type": "markdown",
   "metadata": {},
   "source": [
    "6. Create a bar plot of the `reviews_per_month_grouping`."
   ]
  },
  {
   "cell_type": "code",
   "execution_count": null,
   "metadata": {},
   "outputs": [],
   "source": [
    "reviews_per_month_grouping_counts = listings_df['reviews_per_month_category'].value_counts()\n",
    "print(reviews_per_month_grouping_counts)"
   ]
  },
  {
   "cell_type": "code",
   "execution_count": null,
   "metadata": {},
   "outputs": [],
   "source": [
    "import matplotlib.pyplot as plt\n",
    "\n",
    "order = ['No Reviews', 'Few', 'Good', 'Great', 'Fire', 'Unknown']\n",
    "\n",
    "ordered_reviews_counts = reviews_per_month_grouping_counts.reindex(order)\n",
    "\n",
    "ordered_reviews_counts.plot(kind='bar')\n",
    "plt.title('Reviews per Month Grouping Counts')   \n",
    "plt.ylabel('Count')\n",
    "plt.xlabel('Reviews per Month Grouping')\n",
    "plt.show()"
   ]
  }
 ],
 "metadata": {
  "kernelspec": {
   "display_name": ".venv",
   "language": "python",
   "name": "python3"
  },
  "language_info": {
   "codemirror_mode": {
    "name": "ipython",
    "version": 3
   },
   "file_extension": ".py",
   "mimetype": "text/x-python",
   "name": "python",
   "nbconvert_exporter": "python",
   "pygments_lexer": "ipython3",
   "version": "3.10.4"
  }
 },
 "nbformat": 4,
 "nbformat_minor": 2
}
