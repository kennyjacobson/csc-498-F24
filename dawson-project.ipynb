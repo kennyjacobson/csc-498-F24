{
 "cells": [
  {
   "cell_type": "code",
   "execution_count": null,
   "metadata": {},
   "outputs": [],
   "source": [
    "import xml.etree.ElementTree as ET\n",
    "\n",
    "# Path to the XML file\n",
    "file_path = 'data/dawsondata/apple_health_export/export.xml'\n",
    "\n",
    "# Parse the XML file\n",
    "tree = ET.parse(file_path)\n",
    "root = tree.getroot()\n",
    "\n",
    "# Display the root tag\n",
    "print(root.tag)"
   ]
  },
  {
   "cell_type": "code",
   "execution_count": null,
   "metadata": {},
   "outputs": [],
   "source": [
    "# Extract all 'Record' nodes\n",
    "records = root.findall('Record')\n",
    "\n",
    "# Display the number of 'Record' nodes found\n",
    "print(f\"Number of 'Record' nodes: {len(records)}\")"
   ]
  },
  {
   "cell_type": "code",
   "execution_count": null,
   "metadata": {},
   "outputs": [],
   "source": [
    "import pandas as pd\n",
    "\n",
    "# Extract relevant information from each 'Record' node\n",
    "data = []\n",
    "for record in records:\n",
    "    data.append({\n",
    "        'type': record.get('type'),\n",
    "        'sourceName': record.get('sourceName'),\n",
    "        'sourceVersion': record.get('sourceVersion'),\n",
    "        # 'device': record.get('device'),\n",
    "        'unit': record.get('unit'),\n",
    "        'creationDate': record.get('creationDate'),\n",
    "        'startDate': record.get('startDate'),\n",
    "        'endDate': record.get('endDate'),\n",
    "        'value': record.get('value')\n",
    "    })\n",
    "\n",
    "# Create a dataframe from the extracted data\n",
    "df = pd.DataFrame(data)\n",
    "\n",
    "# Display the first few rows of the dataframe\n",
    "print(df.head())"
   ]
  },
  {
   "cell_type": "code",
   "execution_count": null,
   "metadata": {},
   "outputs": [],
   "source": [
    "# Export the dataframe to a CSV file\n",
    "df.to_csv('data/dawsondata/apple_health_export/exported_data.csv', index=False)"
   ]
  }
 ],
 "metadata": {
  "kernelspec": {
   "display_name": ".venv",
   "language": "python",
   "name": "python3"
  },
  "language_info": {
   "codemirror_mode": {
    "name": "ipython",
    "version": 3
   },
   "file_extension": ".py",
   "mimetype": "text/x-python",
   "name": "python",
   "nbconvert_exporter": "python",
   "pygments_lexer": "ipython3",
   "version": "3.10.4"
  }
 },
 "nbformat": 4,
 "nbformat_minor": 2
}
