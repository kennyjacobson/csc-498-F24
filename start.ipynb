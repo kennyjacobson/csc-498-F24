{
 "cells": [
  {
   "cell_type": "code",
   "execution_count": null,
   "metadata": {},
   "outputs": [],
   "source": [
    "import pandas as pd\n",
    "\n",
    "# Load the CSV files\n",
    "listings_df = pd.read_csv('data/listings.csv')\n",
    "\n",
    "print(listings_df.head())"
   ]
  },
  {
   "cell_type": "code",
   "execution_count": null,
   "metadata": {},
   "outputs": [],
   "source": [
    "print(listings_df.columns)"
   ]
  },
  {
   "cell_type": "code",
   "execution_count": null,
   "metadata": {},
   "outputs": [],
   "source": [
    "average_reviews_per_month = listings_df['reviews_per_month'].mean()\n",
    "print(average_reviews_per_month)"
   ]
  },
  {
   "cell_type": "code",
   "execution_count": null,
   "metadata": {},
   "outputs": [],
   "source": [
    "reviews_per_month_mode = listings_df['reviews_per_month'].mode()\n",
    "print(reviews_per_month_mode)"
   ]
  },
  {
   "cell_type": "code",
   "execution_count": null,
   "metadata": {},
   "outputs": [],
   "source": [
    "max_reviews_per_month = listings_df['reviews_per_month'].max()\n",
    "print(max_reviews_per_month)"
   ]
  },
  {
   "cell_type": "code",
   "execution_count": null,
   "metadata": {},
   "outputs": [],
   "source": [
    "def categorize_reviews(reviews_per_month):\n",
    "    if reviews_per_month == 0:\n",
    "        return \"No Reviews\"\n",
    "    elif 0 < reviews_per_month < 5:\n",
    "        return \"Few\"\n",
    "    elif 5 <= reviews_per_month < 12:\n",
    "        return \"Good\"\n",
    "    elif 12 <= reviews_per_month < 20:\n",
    "        return \"Great\"\n",
    "    else:\n",
    "        return \"Fire\"\n",
    "\n",
    "listings_df['reviews_per_month_grouping'] = listings_df['reviews_per_month'].apply(categorize_reviews)\n",
    "print(listings_df[['reviews_per_month', 'reviews_per_month_grouping']].head())"
   ]
  },
  {
   "cell_type": "code",
   "execution_count": null,
   "metadata": {},
   "outputs": [],
   "source": [
    "reviews_per_month_grouping_counts = listings_df['reviews_per_month_grouping'].value_counts()\n",
    "print(reviews_per_month_grouping_counts)"
   ]
  },
  {
   "cell_type": "code",
   "execution_count": null,
   "metadata": {},
   "outputs": [],
   "source": [
    "import matplotlib.pyplot as plt\n",
    "\n",
    "# Define the order of the categories\n",
    "order = ['Few', 'Good', 'Great', 'Fire']\n",
    "\n",
    "# Reindex the series to match the desired order\n",
    "ordered_reviews_counts = reviews_per_month_grouping_counts.reindex(order)\n",
    "\n",
    "# Plot the data\n",
    "ordered_reviews_counts.plot(kind='bar')\n",
    "plt.xlabel('Reviews per Month Grouping')\n",
    "plt.ylabel('Count')\n",
    "plt.title('Reviews per Month Grouping Counts')\n",
    "plt.show()"
   ]
  }
 ],
 "metadata": {
  "kernelspec": {
   "display_name": ".venv",
   "language": "python",
   "name": "python3"
  },
  "language_info": {
   "codemirror_mode": {
    "name": "ipython",
    "version": 3
   },
   "file_extension": ".py",
   "mimetype": "text/x-python",
   "name": "python",
   "nbconvert_exporter": "python",
   "pygments_lexer": "ipython3",
   "version": "3.10.4"
  }
 },
 "nbformat": 4,
 "nbformat_minor": 2
}
