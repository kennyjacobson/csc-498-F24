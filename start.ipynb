{
 "cells": [
  {
   "cell_type": "code",
   "execution_count": 43,
   "metadata": {},
   "outputs": [
    {
     "name": "stdout",
     "output_type": "stream",
     "text": [
      "                                     id  \\\n",
      "0  6c40b677-d423-404c-bd9f-bb151d85b5a0   \n",
      "1  6c40b677-d423-404c-bd9f-bb151d85b5a0   \n",
      "2  c3c20ee8-87aa-487d-82a3-f7d0397f344b   \n",
      "3  3ff9df86-3817-4d69-afe7-1153be36e740   \n",
      "4  c3c20ee8-87aa-487d-82a3-f7d0397f344b   \n",
      "\n",
      "                                   record_range accommodation_type  bathrooms  \\\n",
      "0  listing-553a1e58-a13c-4bef-a2e9-de9df8419c05                NaN        NaN   \n",
      "1  listing-3f690852-2757-45a7-aef3-5d10318b45b5                NaN        NaN   \n",
      "2  listing-5ca7e4c3-83e2-4c22-afc7-ae2e82094b1f                NaN        NaN   \n",
      "3  listing-082867cd-3854-421e-99a0-547e3d818cef                NaN        3.0   \n",
      "4  listing-c7d8e38c-85b5-4aae-a458-0dc1a0e70a31                NaN        NaN   \n",
      "\n",
      "   bedrooms  beds                  created_at         created_by_email  \\\n",
      "0       NaN   NaN  2024-10-21 15:11:19.617508  bearlakeheidi@gmail.com   \n",
      "1       NaN   NaN  2024-10-21 15:11:19.617508  bearlakeheidi@gmail.com   \n",
      "2       NaN   NaN  2024-10-21 15:17:55.014226  bearlakeheidi@gmail.com   \n",
      "3       5.0   NaN  2024-10-21 15:42:35.985057  bearlakeheidi@gmail.com   \n",
      "4       NaN   NaN  2024-10-21 15:17:55.014226  bearlakeheidi@gmail.com   \n",
      "\n",
      "                  created_by_id     geohash  ...  \\\n",
      "0  Google_104386257552356349140  9q8uvvgxhm  ...   \n",
      "1  Google_104386257552356349140  9q8uvy5uph  ...   \n",
      "2  Google_104386257552356349140  9q8uvy7ef6  ...   \n",
      "3  Google_104386257552356349140  9q8uvycgwv  ...   \n",
      "4  Google_104386257552356349140  9q8uvyk38p  ...   \n",
      "\n",
      "                             listing_id     longitude max_guests  owner_name  \\\n",
      "0  553a1e58-a13c-4bef-a2e9-de9df8419c05   '-122.43763        NaN         NaN   \n",
      "1  3f690852-2757-45a7-aef3-5d10318b45b5   '-122.43717        NaN         NaN   \n",
      "2  5ca7e4c3-83e2-4c22-afc7-ae2e82094b1f  '-122.437714        NaN         NaN   \n",
      "3  082867cd-3854-421e-99a0-547e3d818cef  '-122.439926       10.0         NaN   \n",
      "4  c7d8e38c-85b5-4aae-a458-0dc1a0e70a31   '-122.43679        NaN         NaN   \n",
      "\n",
      "  platform rating  record_type reviews_count  \\\n",
      "0   airbnb    NaN      listing           NaN   \n",
      "1     vrbo    NaN      listing           NaN   \n",
      "2     vrbo    NaN      listing           NaN   \n",
      "3     vrbo    NaN      listing           NaN   \n",
      "4   airbnb    NaN      listing           NaN   \n",
      "\n",
      "                                           title                  updated_at  \n",
      "0                                            NaN  2024-10-21 15:11:19.617508  \n",
      "1                                            NaN  2024-10-21 15:11:19.617508  \n",
      "2                                            NaN  2024-10-21 15:17:55.014226  \n",
      "3  Executive Vacation House Next to Ritz-Carlton  2024-10-21 15:42:35.985057  \n",
      "4                                            NaN  2024-10-21 15:17:55.014226  \n",
      "\n",
      "[5 rows x 21 columns]\n"
     ]
    }
   ],
   "source": [
    "import pandas as pd\n",
    "\n",
    "# Load the CSV files\n",
    "rentals_df = pd.read_csv('data/half-moon-bay/half-moon-bay-rentals.csv')\n",
    "listings_df = pd.read_csv('data/half-moon-bay/half-moon-bay-listings.csv')\n",
    "\n",
    "# Display the first few rows of each DataFrame\n",
    "# print(\"Rentals DataFrame:\")\n",
    "print(rentals_df.head())\n",
    "\n",
    "# print(\"\\nListings DataFrame:\")\n",
    "# print(listings_df.head())"
   ]
  },
  {
   "cell_type": "code",
   "execution_count": 44,
   "metadata": {},
   "outputs": [],
   "source": [
    "rentals_subset = rentals_df[['listing_id', 'id']]\n",
    "listings_subset = listings_df[['ID', 'Link']]\n",
    "# print(listings_subset.head())\n",
    "# print(rentals_subset.head())"
   ]
  },
  {
   "cell_type": "code",
   "execution_count": 45,
   "metadata": {},
   "outputs": [],
   "source": [
    "merged_df = pd.merge(listings_subset, rentals_subset, left_on='ID', right_on='listing_id')\n",
    "# print(merged_df.head())"
   ]
  },
  {
   "cell_type": "code",
   "execution_count": 46,
   "metadata": {
    "vscode": {
     "languageId": "javascript"
    }
   },
   "outputs": [],
   "source": [
    "merged_df.rename(columns={\n",
    "    'ID': 'listing_table_id',\n",
    "    'Link': 'listing_table_link',\n",
    "    'listing_id': 'rental_table_listing_id',\n",
    "    'id': 'rental_table_id'\n",
    "}, inplace=True)\n",
    "\n",
    "# print(merged_df.head())"
   ]
  },
  {
   "cell_type": "code",
   "execution_count": 47,
   "metadata": {},
   "outputs": [],
   "source": [
    "new_df = merged_df[['rental_table_id', 'listing_table_link']]\n",
    "# print(new_df.head(10))"
   ]
  },
  {
   "cell_type": "code",
   "execution_count": 48,
   "metadata": {},
   "outputs": [
    {
     "name": "stderr",
     "output_type": "stream",
     "text": [
      "C:\\Users\\k_jac\\AppData\\Local\\Temp\\ipykernel_12176\\1435217596.py:15: SettingWithCopyWarning: \n",
      "A value is trying to be set on a copy of a slice from a DataFrame.\n",
      "Try using .loc[row_indexer,col_indexer] = value instead\n",
      "\n",
      "See the caveats in the documentation: https://pandas.pydata.org/pandas-docs/stable/user_guide/indexing.html#returning-a-view-versus-a-copy\n",
      "  unique_rentals['listing_url_1'] = unique_rentals['rental_table_id'].apply(lambda x: rental_urls[x][0] if len(rental_urls[x]) > 0 else None)\n",
      "C:\\Users\\k_jac\\AppData\\Local\\Temp\\ipykernel_12176\\1435217596.py:16: SettingWithCopyWarning: \n",
      "A value is trying to be set on a copy of a slice from a DataFrame.\n",
      "Try using .loc[row_indexer,col_indexer] = value instead\n",
      "\n",
      "See the caveats in the documentation: https://pandas.pydata.org/pandas-docs/stable/user_guide/indexing.html#returning-a-view-versus-a-copy\n",
      "  unique_rentals['listing_url_2'] = unique_rentals['rental_table_id'].apply(lambda x: rental_urls[x][1] if len(rental_urls[x]) > 1 else None)\n",
      "C:\\Users\\k_jac\\AppData\\Local\\Temp\\ipykernel_12176\\1435217596.py:17: SettingWithCopyWarning: \n",
      "A value is trying to be set on a copy of a slice from a DataFrame.\n",
      "Try using .loc[row_indexer,col_indexer] = value instead\n",
      "\n",
      "See the caveats in the documentation: https://pandas.pydata.org/pandas-docs/stable/user_guide/indexing.html#returning-a-view-versus-a-copy\n",
      "  unique_rentals['listing_url_3'] = unique_rentals['rental_table_id'].apply(lambda x: rental_urls[x][2] if len(rental_urls[x]) > 2 else None)\n",
      "C:\\Users\\k_jac\\AppData\\Local\\Temp\\ipykernel_12176\\1435217596.py:19: SettingWithCopyWarning: \n",
      "A value is trying to be set on a copy of a slice from a DataFrame\n",
      "\n",
      "See the caveats in the documentation: https://pandas.pydata.org/pandas-docs/stable/user_guide/indexing.html#returning-a-view-versus-a-copy\n",
      "  unique_rentals.drop(columns=['listing_table_link'], inplace=True)\n",
      "C:\\Users\\k_jac\\AppData\\Local\\Temp\\ipykernel_12176\\1435217596.py:21: SettingWithCopyWarning: \n",
      "A value is trying to be set on a copy of a slice from a DataFrame\n",
      "\n",
      "See the caveats in the documentation: https://pandas.pydata.org/pandas-docs/stable/user_guide/indexing.html#returning-a-view-versus-a-copy\n",
      "  unique_rentals.rename(columns={'rental_table_id': 'rental_id'}, inplace=True)\n"
     ]
    }
   ],
   "source": [
    "# Create a new DataFrame with unique rental_table_id\n",
    "unique_rentals = new_df.drop_duplicates(subset=['rental_table_id'])\n",
    "\n",
    "# Create a dictionary to hold the listing URLs for each rental_table_id\n",
    "rental_urls = {}\n",
    "\n",
    "for _, row in new_df.iterrows():\n",
    "    rental_id = row['rental_table_id']\n",
    "    link = row['listing_table_link']\n",
    "    if rental_id not in rental_urls:\n",
    "        rental_urls[rental_id] = []\n",
    "    rental_urls[rental_id].append(link)\n",
    "\n",
    "# Add the listing URLs to the unique_rentals DataFrame\n",
    "unique_rentals['listing_url_1'] = unique_rentals['rental_table_id'].apply(lambda x: rental_urls[x][0] if len(rental_urls[x]) > 0 else None)\n",
    "unique_rentals['listing_url_2'] = unique_rentals['rental_table_id'].apply(lambda x: rental_urls[x][1] if len(rental_urls[x]) > 1 else None)\n",
    "unique_rentals['listing_url_3'] = unique_rentals['rental_table_id'].apply(lambda x: rental_urls[x][2] if len(rental_urls[x]) > 2 else None)\n",
    "# Remove the listing_table_link column\n",
    "unique_rentals.drop(columns=['listing_table_link'], inplace=True)\n",
    "# Rename the column 'rental_table_id' to 'rental_id'\n",
    "unique_rentals.rename(columns={'rental_table_id': 'rental_id'}, inplace=True)\n"
   ]
  },
  {
   "cell_type": "code",
   "execution_count": 49,
   "metadata": {},
   "outputs": [
    {
     "name": "stderr",
     "output_type": "stream",
     "text": [
      "C:\\Users\\k_jac\\AppData\\Local\\Temp\\ipykernel_12176\\2461339577.py:1: SettingWithCopyWarning: \n",
      "A value is trying to be set on a copy of a slice from a DataFrame\n",
      "\n",
      "See the caveats in the documentation: https://pandas.pydata.org/pandas-docs/stable/user_guide/indexing.html#returning-a-view-versus-a-copy\n",
      "  unique_rentals.sort_values(by='rental_id', inplace=True)\n"
     ]
    }
   ],
   "source": [
    "unique_rentals.sort_values(by='rental_id', inplace=True)\n",
    "# print(unique_rentals.head(10))"
   ]
  },
  {
   "cell_type": "code",
   "execution_count": 51,
   "metadata": {},
   "outputs": [],
   "source": [
    "unique_rentals.to_csv('data/half-moon-bay/flattened.csv', index=False)"
   ]
  },
  {
   "cell_type": "code",
   "execution_count": null,
   "metadata": {},
   "outputs": [],
   "source": []
  }
 ],
 "metadata": {
  "kernelspec": {
   "display_name": ".venv",
   "language": "python",
   "name": "python3"
  },
  "language_info": {
   "codemirror_mode": {
    "name": "ipython",
    "version": 3
   },
   "file_extension": ".py",
   "mimetype": "text/x-python",
   "name": "python",
   "nbconvert_exporter": "python",
   "pygments_lexer": "ipython3",
   "version": "3.10.4"
  }
 },
 "nbformat": 4,
 "nbformat_minor": 2
}
